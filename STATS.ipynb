{
 "cells": [
  {
   "cell_type": "markdown",
   "metadata": {},
   "source": [
    "# Расчетное задание ММФ"
   ]
  },
  {
   "cell_type": "code",
   "execution_count": 1,
   "metadata": {},
   "outputs": [],
   "source": [
    "import numpy as np\n",
    "import math \n",
    "import scipy as sp\n",
    "import scipy.stats\n",
    "import matplotlib.pyplot as plt\n",
    "from statsmodels.distributions.empirical_distribution import ECDF"
   ]
  },
  {
   "cell_type": "markdown",
   "metadata": {},
   "source": [
    "### Выборка 28"
   ]
  },
  {
   "cell_type": "code",
   "execution_count": 2,
   "metadata": {},
   "outputs": [],
   "source": [
    "#Part 1 sample\n",
    "X1 = [-1.177, 0.079, 0.054, 0.592, -0.093, -0.612, -1.844, -0.128, -1.793, -0.454,  \n",
    "     -0.168, -2.269, -2.190, -1.262, 0.088, 0.072, -1.736, -0.766, 0.286, -0.824,\n",
    "      -3.157, -2.600, -0.484, 0.492, -0.550, -1.767, -1.766, -0.521, -2.543, -0.992, \n",
    "      -0.836, -1.138, -0.961, -1.639, -1.328, -1.814, -2.163, 0.380, -1.877, -0.732,  \n",
    "      -1.606, 0.525, -0.669, -0.617, -1.108, -2.114, 0.481, -0.560, -0.669, -2.087]\n",
    "\n",
    "#Part 2 sample\n",
    "X2 = [0.002, 0.982, 0.664, 0.896, 0.024, 0.047, 0.114, 0.517, 0.761, 0.728,\n",
    "     0.597, 0.899, 0.400, 0.079, 0.781, 0.139, 0.996, 0.022, 0.206, 0.303,\n",
    "     0.446, 0.616, 0.794, 0.898, 0.531, 0.713, 0.332, 0.234, 0.395, 0.813]\n",
    "eps = 0.08"
   ]
  },
  {
   "cell_type": "markdown",
   "metadata": {},
   "source": [
    "## Часть 1"
   ]
  },
  {
   "cell_type": "code",
   "execution_count": 3,
   "metadata": {},
   "outputs": [
    {
     "name": "stdout",
     "output_type": "stream",
     "text": [
      "(-1.2309687078599958, -0.7116312921400042)\n"
     ]
    }
   ],
   "source": [
    "# Доверительный интервал  для параметра a при известном σ2\n",
    "m = np.mean(X1)\n",
    "h = math.sqrt(1.1 / len(X1)) * sp.stats.norm.ppf(1-eps/2)\n",
    "print((m-h, m+h))"
   ]
  },
  {
   "cell_type": "code",
   "execution_count": 4,
   "metadata": {},
   "outputs": [
    {
     "name": "stdout",
     "output_type": "stream",
     "text": [
      "(-1.209435512644101, -0.7331644873558989)\n"
     ]
    }
   ],
   "source": [
    "# Доверительный интервал для параметра a при неизвестном σ2\n",
    "m, se = np.mean(X1), np.std(X1, ddof = 1)\n",
    "h = se * sp.stats.t.ppf(1-eps/2, len(X1)-1) / math.sqrt(len(X1))\n",
    "print((m-h, m+h))"
   ]
  },
  {
   "cell_type": "code",
   "execution_count": 7,
   "metadata": {},
   "outputs": [
    {
     "name": "stdout",
     "output_type": "stream",
     "text": [
      "(0.6324052233949556, 1.2819270127475733)\n"
     ]
    }
   ],
   "source": [
    "# Доверительный интервал для параметра σ2 при известном a\n",
    "sum = 0\n",
    "for i in range(len(X1)):\n",
    "    sum += (X1[i] + 1) ** 2\n",
    "sum /= len(X1)\n",
    "h1 = len(X1) * sum / sp.stats.chi2.ppf(eps / 2, len(X1))\n",
    "h2 = len(X1) * sum / sp.stats.chi2.ppf(1 - eps / 2, len(X1))\n",
    "print((min(h1, h2), max(h1, h2)))"
   ]
  },
  {
   "cell_type": "code",
   "execution_count": 9,
   "metadata": {},
   "outputs": [
    {
     "name": "stdout",
     "output_type": "stream",
     "text": [
      "(0.6428008163280805, 1.3125524200848957)\n"
     ]
    }
   ],
   "source": [
    "# Доверительный интервал для параметра σ2 при неизвестном a \n",
    "h1 = (len(X1) - 1) * np.var(X1, ddof = 1) / sp.stats.chi2.ppf(eps / 2, len(X1) - 1)\n",
    "h2 = (len(X1) - 1) * np.var(X1, ddof = 1) / sp.stats.chi2.ppf(1 - eps / 2, len(X1) - 1)\n",
    "print((min(h1, h2), max(h1, h2)))"
   ]
  },
  {
   "cell_type": "markdown",
   "metadata": {},
   "source": [
    "### Проверка гипотезы однородности"
   ]
  },
  {
   "cell_type": "code",
   "execution_count": 10,
   "metadata": {},
   "outputs": [
    {
     "name": "stdout",
     "output_type": "stream",
     "text": [
      "1.1539470556267055\n",
      "(0.4887938446376142, 2.180321707437528)\n"
     ]
    }
   ],
   "source": [
    "# Критерий Фишера\n",
    "n1, n2 = 20, 30\n",
    "s1 = np.var(X1[:20], ddof = 1)\n",
    "s2 = np.var(X1[20:], ddof = 1)\n",
    "rho = max(s1, s2) / min(s1, s2) # s2 > s1\n",
    "q1 = sp.stats.f.ppf(eps / 2, n2 - 1, n1 - 1)\n",
    "q2 = sp.stats.f.ppf(1 - eps / 2, n2 - 1, n1 - 1)\n",
    "print(rho)\n",
    "print((min(q1, q2), max(q1, q2))) "
   ]
  },
  {
   "cell_type": "code",
   "execution_count": 11,
   "metadata": {},
   "outputs": [
    {
     "name": "stdout",
     "output_type": "stream",
     "text": [
      "1.6465649919441834\n",
      "(-1.7885467032422269, 1.7885467032422264)\n"
     ]
    }
   ],
   "source": [
    "# Критерий Стьюдента\n",
    "n1, n2 = 20, 30\n",
    "rho = math.sqrt(n1 * n2 / (n1 + n2)) * (np.mean(X1[:20])-np.mean(X1[20:])) / \\\n",
    "        math.sqrt(((n1 - 1) * np.var(X1[:20], ddof = 1) + (n2 - 1) * np.var(X1[20:], ddof = 1)) / (n1 + n2 - 2))\n",
    "q1 = sp.stats.t.ppf(eps / 2, n1 + n2 - 2)\n",
    "q2 = sp.stats.t.ppf(1 - eps / 2, n1 + n2 - 2)\n",
    "print(rho)\n",
    "print((min(q1, q2), max(q1, q2))) "
   ]
  },
  {
   "cell_type": "markdown",
   "metadata": {},
   "source": [
    "## Часть 2"
   ]
  },
  {
   "cell_type": "code",
   "execution_count": 12,
   "metadata": {},
   "outputs": [
    {
     "data": {
      "image/png": "[encoded data removed]",
      "text/plain": [
       "<Figure size 504x360 with 1 Axes>"
      ]
     },
     "metadata": {
      "needs_background": "light"
     },
     "output_type": "display_data"
    }
   ],
   "source": [
    "# Эмпирическая функция распределения выборки 2\n",
    "ecdf = ECDF(X2)\n",
    "grid = np.linspace(min(X2), max(X2), num = 1000)\n",
    "y = ecdf(grid)\n",
    "plt.figure(figsize=(7,5))\n",
    "plt.ylabel('Probability');\n",
    "plt.step(grid, y)\n",
    "plt.show()"
   ]
  },
  {
   "cell_type": "code",
   "execution_count": 13,
   "metadata": {},
   "outputs": [
    {
     "data": {
      "image/png": "[encoded data removed]",
      "text/plain": [
       "<Figure size 432x288 with 1 Axes>"
      ]
     },
     "metadata": {
      "needs_background": "light"
     },
     "output_type": "display_data"
    }
   ],
   "source": [
    "# Диаграмма выборки 2\n",
    "plt.hist(X2, 6)\n",
    "plt.ylabel('Probability');\n",
    "plt.show()"
   ]
  },
  {
   "cell_type": "code",
   "execution_count": 14,
   "metadata": {},
   "outputs": [
    {
     "name": "stdout",
     "output_type": "stream",
     "text": [
      "0.5149907890536563 Dn\n",
      "0.953539182786864  -- Реально достигнутый уровень значимости\n",
      "(0.0, 1.268623626323811)\n"
     ]
    }
   ],
   "source": [
    "# Критерий Колмогорова\n",
    "ecdf = ECDF(X2)\n",
    "x = np.linspace(min(X2), max(X2), num = 1000)\n",
    "y = ecdf(x)\n",
    "Dn = math.sqrt(len(X2)) * max(abs(x - y))\n",
    "print(Dn, \"Dn\")\n",
    "print(1 - sp.stats.kstwobign.cdf(Dn), \" -- Реально достигнутый уровень значимости\")\n",
    "print((0.0, sp.stats.kstwobign.ppf(1 - eps)))"
   ]
  },
  {
   "cell_type": "code",
   "execution_count": 15,
   "metadata": {},
   "outputs": [
    {
     "name": "stdout",
     "output_type": "stream",
     "text": [
      "2.0\n",
      "0.8491450360846096  -- Реально достигнутый уровень значимости\n",
      "(0.0, 9.836591284935054)\n"
     ]
    }
   ],
   "source": [
    "# Критерий хи-квадрат\n",
    "k = 6 # Число областей\n",
    "delta = 1.0 / k\n",
    "h1 = 0\n",
    "X2 = sorted(X2)\n",
    "num = np.zeros(k)\n",
    "\n",
    "for j in range(k):\n",
    "    for i in range(len(X2)):\n",
    "        if (X2[i] >= h1) & (X2[i] < (h1 + delta)):\n",
    "            num[j] += 1\n",
    "    h1 += delta\n",
    "\n",
    "sum = 0\n",
    "p = 1.0 / k\n",
    "for l in range(k):\n",
    "    sum += ((num[l] - len(X2) * p) ** 2 ) / (len(X2) * p)\n",
    "print(sum)\n",
    "print(1 - sp.stats.chi2.cdf(sum, k-1), \" -- Реально достигнутый уровень значимости\")\n",
    "print((0.0, sp.stats.chi2.ppf(1 - eps, k-1)))"
   ]
  }
 ],
 "metadata": {
  "kernelspec": {
   "display_name": "Python 3",
   "language": "python",
   "name": "python3"
  },
  "language_info": {
   "codemirror_mode": {
    "name": "ipython",
    "version": 3
   },
   "file_extension": ".py",
   "mimetype": "text/x-python",
   "name": "python",
   "nbconvert_exporter": "python",
   "pygments_lexer": "ipython3",
   "version": "3.6.6"
  }
 },
 "nbformat": 4,
 "nbformat_minor": 2
}
