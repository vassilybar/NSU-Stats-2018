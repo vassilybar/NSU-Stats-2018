{
 "cells": [
  {
   "cell_type": "markdown",
   "metadata": {},
   "source": [
    "# Расчетное задание ММФ"
   ]
  },
  {
   "cell_type": "code",
   "execution_count": 18,
   "metadata": {},
   "outputs": [],
   "source": [
    "import numpy as np\n",
    "import math \n",
    "import scipy as sp\n",
    "import scipy.stats\n",
    "import matplotlib.pyplot as plt\n",
    "from statsmodels.distributions.empirical_distribution import ECDF"
   ]
  },
  {
   "cell_type": "markdown",
   "metadata": {},
   "source": [
    "### Выборка 28"
   ]
  },
  {
   "cell_type": "code",
   "execution_count": 19,
   "metadata": {
    "collapsed": true
   },
   "outputs": [],
   "source": [
    "a1 = [-1.177, 0.079, 0.054, 0.592, -0.093, -0.612, -1.844, -0.128, -1.793, -0.454,  \n",
    "     -0.168, -2.269, -2.190, -1.262, 0.088, 0.072, -1.736, -0.766, 0.286, -0.824]\n",
    "\n",
    "a2 = [-3.157, -2.600, -0.484, 0.492, -0.550, -1.767, -1.766, -0.521, -2.543, -0.992, \n",
    "      -0.836, -1.138, -0.961, -1.639, -1.328, -1.814, -2.163, 0.380, -1.877, -0.732,  \n",
    "      -1.606, 0.525, -0.669, -0.617, -1.108, -2.114, 0.481, -0.560, -0.669, -2.087]\n",
    "\n",
    "b = [0.002, 0.982, 0.664, 0.896, 0.024, 0.047, 0.114, 0.517, 0.761, 0.728,\n",
    "     0.597, 0.899, 0.400, 0.079, 0.781, 0.139, 0.996, 0.022, 0.206, 0.303,\n",
    "     0.446, 0.616, 0.794, 0.898, 0.531, 0.713, 0.332, 0.234, 0.395, 0.813]\n",
    "a = a1 + a2\n",
    "eps = 0.08"
   ]
  },
  {
   "cell_type": "markdown",
   "metadata": {},
   "source": [
    "## Часть 1"
   ]
  },
  {
   "cell_type": "code",
   "execution_count": 20,
   "metadata": {},
   "outputs": [
    {
     "data": {
      "text/plain": [
       "(-1.2309687078599958, -0.7116312921400042)"
      ]
     },
     "execution_count": 20,
     "metadata": {},
     "output_type": "execute_result"
    }
   ],
   "source": [
    "# Доверительный интервал 1\n",
    "n = len(a)\n",
    "m = np.mean(a)\n",
    "h = math.sqrt(1.1 / n) * sp.stats.norm.ppf(1-eps/2)\n",
    "m-h, m+h"
   ]
  },
  {
   "cell_type": "code",
   "execution_count": 21,
   "metadata": {},
   "outputs": [
    {
     "data": {
      "text/plain": [
       "(-1.209435512644101, -0.7331644873558989)"
      ]
     },
     "execution_count": 21,
     "metadata": {},
     "output_type": "execute_result"
    }
   ],
   "source": [
    "# Доверительный интервал 2\n",
    "n = len(a)\n",
    "m, se = np.mean(a), np.std(a, ddof = 1)\n",
    "h = se * sp.stats.t.ppf(1-eps/2, n-1) / math.sqrt(n)\n",
    "m-h, m+h"
   ]
  },
  {
   "cell_type": "code",
   "execution_count": 22,
   "metadata": {},
   "outputs": [
    {
     "data": {
      "text/plain": [
       "(0.63240522339495575, 1.2819270127475733)"
      ]
     },
     "execution_count": 22,
     "metadata": {},
     "output_type": "execute_result"
    }
   ],
   "source": [
    "# Доверительный интервал 3\n",
    "n = len(a)\n",
    "sum = 0\n",
    "for i in range(len(a)):\n",
    "    sum += (a[i] + 1) ** 2\n",
    "sum /= n\n",
    "h1 = n * sum / sp.stats.chi2.ppf(eps / 2, n)\n",
    "h2 = n * sum / sp.stats.chi2.ppf(1 - eps / 2, n)\n",
    "min(h1, h2), max(h1, h2)"
   ]
  },
  {
   "cell_type": "code",
   "execution_count": 23,
   "metadata": {},
   "outputs": [
    {
     "data": {
      "text/plain": [
       "(0.6428008163280805, 1.3125524200848957)"
      ]
     },
     "execution_count": 23,
     "metadata": {},
     "output_type": "execute_result"
    }
   ],
   "source": [
    "# Доверительный интервал 4\n",
    "n = len(a)\n",
    "h1 = (n - 1) * np.var(a, ddof = 1) / sp.stats.chi2.ppf(eps / 2, n - 1)\n",
    "h2 = (n - 1) * np.var(a, ddof = 1) / sp.stats.chi2.ppf(1 - eps / 2, n - 1)\n",
    "min(h1, h2), max(h1, h2)"
   ]
  },
  {
   "cell_type": "markdown",
   "metadata": {},
   "source": [
    "### Проверка гипотезы однородности"
   ]
  },
  {
   "cell_type": "code",
   "execution_count": 24,
   "metadata": {},
   "outputs": [
    {
     "name": "stdout",
     "output_type": "stream",
     "text": [
      "1.15394705563\n"
     ]
    },
    {
     "data": {
      "text/plain": [
       "(0.48879384463761422, 2.1803217074375278)"
      ]
     },
     "execution_count": 24,
     "metadata": {},
     "output_type": "execute_result"
    }
   ],
   "source": [
    "# Критерий Фишера\n",
    "n = len(a1)\n",
    "m = len(a2)\n",
    "s1 = np.var(a1, ddof = 1)\n",
    "s2 = np.var(a2, ddof = 1)\n",
    "rho = max(s1, s2) / min(s1, s2) # s2 > s1\n",
    "q1 = sp.stats.f.ppf(eps / 2, m - 1, n - 1)\n",
    "q2 = sp.stats.f.ppf(1 - eps / 2, m - 1, n - 1)\n",
    "print(rho)\n",
    "min(q1, q2), max(q1, q2) "
   ]
  },
  {
   "cell_type": "code",
   "execution_count": 25,
   "metadata": {},
   "outputs": [
    {
     "name": "stdout",
     "output_type": "stream",
     "text": [
      "1.64656499194\n"
     ]
    },
    {
     "data": {
      "text/plain": [
       "(-1.7885467032422269, 1.7885467032422264)"
      ]
     },
     "execution_count": 25,
     "metadata": {},
     "output_type": "execute_result"
    }
   ],
   "source": [
    "# Критерий Стьюдента\n",
    "n = len(a1)\n",
    "m = len(a2)\n",
    "rho = math.sqrt(n*m/(n+m))*(np.mean(a1)-np.mean(a2))/math.sqrt(((n-1)*np.var(a1, ddof = 1)+(m-1)*np.var(a2, ddof = 1))/(n+m-2))\n",
    "q1 = sp.stats.t.ppf(eps/2, n+m-2)\n",
    "q2 = sp.stats.t.ppf(1-eps/2, n+m-2)\n",
    "print(rho)\n",
    "min(q1, q2), max(q1, q2) "
   ]
  },
  {
   "cell_type": "markdown",
   "metadata": {},
   "source": [
    "## Часть 2"
   ]
  },
  {
   "cell_type": "code",
   "execution_count": 26,
   "metadata": {},
   "outputs": [
    {
     "data": {
      "image/png": "[encoded data removed]",
      "text/plain": [
       "<matplotlib.figure.Figure at 0x4ad91fca58>"
      ]
     },
     "metadata": {},
     "output_type": "display_data"
    }
   ],
   "source": [
    "ecdf = ECDF(b)\n",
    "x = np.linspace(min(b), max(b), num = 1000)\n",
    "y = ecdf(x)\n",
    "plt.figure(figsize=(7,5))\n",
    "plt.ylabel('Probability');\n",
    "plt.step(x, y)\n",
    "plt.show()"
   ]
  },
  {
   "cell_type": "code",
   "execution_count": 27,
   "metadata": {},
   "outputs": [
    {
     "data": {
      "image/png": "[encoded data removed]",
      "text/plain": [
       "<matplotlib.figure.Figure at 0x4ad920bda0>"
      ]
     },
     "metadata": {},
     "output_type": "display_data"
    }
   ],
   "source": [
    "# 5.7563304402 число интервалов для диаграммы\n",
    "plt.hist(b, 6)\n",
    "#plt.axis([40, 160, 0, 0.03])\n",
    "#plt.grid(True)\n",
    "plt.ylabel('Probability');\n",
    "plt.show()"
   ]
  },
  {
   "cell_type": "code",
   "execution_count": null,
   "metadata": {
    "collapsed": true
   },
   "outputs": [],
   "source": []
  },
  {
   "cell_type": "code",
   "execution_count": 28,
   "metadata": {},
   "outputs": [
    {
     "name": "stdout",
     "output_type": "stream",
     "text": [
      "0.514990789054 Dn\n",
      "0.953539182787 РДУЗ\n"
     ]
    },
    {
     "data": {
      "text/plain": [
       "(0.0, 1.2686236263238111)"
      ]
     },
     "execution_count": 28,
     "metadata": {},
     "output_type": "execute_result"
    }
   ],
   "source": [
    "# Критерий Колмогорова\n",
    "ecdf = ECDF(b)\n",
    "n = len(b)\n",
    "x = np.linspace(min(b), max(b), num = 1000)\n",
    "y = ecdf(x)\n",
    "y1 = x\n",
    "Dn = math.sqrt(n) * max(abs(y1 - y))\n",
    "print(Dn, \"Dn\")\n",
    "print(1 - sp.stats.kstwobign.cdf(Dn), \"РДУЗ\")\n",
    "0.0, sp.stats.kstwobign.ppf(1 - eps)"
   ]
  },
  {
   "cell_type": "code",
   "execution_count": 31,
   "metadata": {},
   "outputs": [
    {
     "name": "stdout",
     "output_type": "stream",
     "text": [
      "2.0\n",
      "0.991564101069 РДУЗ\n"
     ]
    },
    {
     "data": {
      "text/plain": [
       "(0.0, 9.8365912849350536)"
      ]
     },
     "execution_count": 31,
     "metadata": {},
     "output_type": "execute_result"
    }
   ],
   "source": [
    "# Критерий хи-квадрат\n",
    "k = 6 #Число областей\n",
    "delta = 1.0 / k\n",
    "h1 = 0\n",
    "b1 = sorted(b)\n",
    "num = np.zeros(k)\n",
    "n = len(b1)\n",
    "\n",
    "for j in range(k):\n",
    "    for i in range(n):\n",
    "        if (b1[i]>=h1) & (b1[i]<(h1+delta)):\n",
    "            num[j]+=1\n",
    "    h1+=delta\n",
    "\n",
    "sum = 0\n",
    "p = 1.0 / k\n",
    "for l in range(k):\n",
    "    sum += ((num[l] - n * p) ** 2 )/ (n * p)\n",
    "print(sum)\n",
    "print(1 - sp.stats.chi2.cdf(sum, k-1), \"РДУЗ\")\n",
    "0.0, sp.stats.chi2.ppf(1 - eps, k-1)\n"
   ]
  },
  {
   "cell_type": "code",
   "execution_count": null,
   "metadata": {
    "collapsed": true
   },
   "outputs": [],
   "source": []
  },
  {
   "cell_type": "code",
   "execution_count": null,
   "metadata": {
    "collapsed": true
   },
   "outputs": [],
   "source": []
  },
  {
   "cell_type": "code",
   "execution_count": null,
   "metadata": {
    "collapsed": true
   },
   "outputs": [],
   "source": []
  },
  {
   "cell_type": "code",
   "execution_count": null,
   "metadata": {
    "collapsed": true
   },
   "outputs": [],
   "source": []
  }
 ],
 "metadata": {
  "kernelspec": {
   "display_name": "Python 3",
   "language": "python",
   "name": "python3"
  },
  "language_info": {
   "codemirror_mode": {
    "name": "ipython",
    "version": 3
   },
   "file_extension": ".py",
   "mimetype": "text/x-python",
   "name": "python",
   "nbconvert_exporter": "python",
   "pygments_lexer": "ipython3",
   "version": "3.6.3"
  }
 },
 "nbformat": 4,
 "nbformat_minor": 2
}
